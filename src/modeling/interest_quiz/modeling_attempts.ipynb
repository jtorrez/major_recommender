{
 "cells": [
  {
   "cell_type": "code",
   "execution_count": 77,
   "metadata": {
    "collapsed": false
   },
   "outputs": [],
   "source": [
    "from __future__ import division\n",
    "import pandas as pd\n",
    "import numpy as np\n",
    "import matplotlib.pyplot as plt\n",
    "import raw_loyola as rl\n",
    "import interests_cleaning as cl\n",
    "import bot\n",
    "import operator\n",
    "import copy\n",
    "import cPickle as pickle\n",
    "from collections import Counter\n",
    "from sklearn.model_selection import train_test_split\n",
    "from sklearn.model_selection import cross_val_score\n",
    "from sklearn.tree import DecisionTreeClassifier\n",
    "from sklearn.ensemble import RandomForestClassifier\n",
    "from sklearn.metrics import f1_score\n",
    "from sklearn.metrics import classification_report\n",
    "from sklearn.metrics import log_loss\n",
    "\n",
    "\n",
    "%matplotlib inline"
   ]
  },
  {
   "cell_type": "markdown",
   "metadata": {},
   "source": [
    "# Loading and Cleaning the bot data set\n",
    "\n",
    "Only one small cleaning task, to fill in the missing probabilities for some of the fields. Simply filled with 0 since a missing probability just means that there was 0 chance that based on the bot's answers to that quiz that they were interested in a given field\n",
    "\n",
    "## Sampling to test model\n",
    "\n",
    "Took a small sample (20%) of the full 1,000,000 row dataset to see if it worked on a shard."
   ]
  },
  {
   "cell_type": "code",
   "execution_count": 2,
   "metadata": {
    "collapsed": true
   },
   "outputs": [],
   "source": [
    "giant_df = pd.read_csv('../../../data/bot_data.csv')"
   ]
  },
  {
   "cell_type": "code",
   "execution_count": 4,
   "metadata": {
    "collapsed": false
   },
   "outputs": [],
   "source": [
    "giant_df.fillna(0, inplace=True)"
   ]
  },
  {
   "cell_type": "code",
   "execution_count": 6,
   "metadata": {
    "collapsed": false
   },
   "outputs": [
    {
     "data": {
      "text/plain": [
       "Math, Sciences, and Engineering    355119\n",
       "Business and Communication         217359\n",
       "Public Service, Law, and Policy    196692\n",
       "Social Sciences                    161355\n",
       "Creative Arts                       69475\n",
       "Name: labels, dtype: int64"
      ]
     },
     "execution_count": 6,
     "metadata": {},
     "output_type": "execute_result"
    }
   ],
   "source": [
    "giant_df['labels'].value_counts()"
   ]
  },
  {
   "cell_type": "code",
   "execution_count": 7,
   "metadata": {
    "collapsed": false
   },
   "outputs": [],
   "source": [
    "sample_df = giant_df.sample(frac=0.2)"
   ]
  },
  {
   "cell_type": "code",
   "execution_count": 8,
   "metadata": {
    "collapsed": false
   },
   "outputs": [
    {
     "data": {
      "text/plain": [
       "Math, Sciences, and Engineering    70936\n",
       "Business and Communication         43608\n",
       "Public Service, Law, and Policy    39350\n",
       "Social Sciences                    32069\n",
       "Creative Arts                      14037\n",
       "Name: labels, dtype: int64"
      ]
     },
     "execution_count": 8,
     "metadata": {},
     "output_type": "execute_result"
    }
   ],
   "source": [
    "sample_df['labels'].value_counts()"
   ]
  },
  {
   "cell_type": "markdown",
   "metadata": {},
   "source": [
    "# Preparing data for modeling and splitting\n",
    "\n",
    "## Unused columns\n",
    "\n",
    "Some of the columns in the dataframe were simply for recordkeeping about the information the bot was using. These are unnecssary for modeling.\n",
    "\n",
    "## Two sets of X and Y\n",
    "\n",
    "Created test train splits for both the sample dataframe and the full dataframe. Xs/ys are for the sample and Xf/yf are for the full dataframe."
   ]
  },
  {
   "cell_type": "code",
   "execution_count": 9,
   "metadata": {
    "collapsed": true
   },
   "outputs": [],
   "source": [
    "unused_cols = ['labels','quiz_num', 'public_service_law_and_policy_proba','business_and_communication_proba','math_sciences_and_engineering_proba','creative_arts_proba','social_sciences_proba' ]"
   ]
  },
  {
   "cell_type": "code",
   "execution_count": 10,
   "metadata": {
    "collapsed": false
   },
   "outputs": [],
   "source": [
    "X_samp = sample_df.drop(unused_cols, axis=1).values\n",
    "y_samp = sample_df['labels'].values"
   ]
  },
  {
   "cell_type": "code",
   "execution_count": 11,
   "metadata": {
    "collapsed": false
   },
   "outputs": [],
   "source": [
    "Xs_train, Xs_test, ys_train, ys_test = train_test_split(X_samp, y_samp, test_size=0.25)"
   ]
  },
  {
   "cell_type": "code",
   "execution_count": 12,
   "metadata": {
    "collapsed": true
   },
   "outputs": [],
   "source": [
    "X = giant_df.drop(unused_cols, axis=1).values\n",
    "y = giant_df['labels'].values"
   ]
  },
  {
   "cell_type": "code",
   "execution_count": 13,
   "metadata": {
    "collapsed": false
   },
   "outputs": [],
   "source": [
    "Xf_train, Xf_test, yf_train, yf_test = train_test_split(X, y, test_size=0.25)"
   ]
  },
  {
   "cell_type": "markdown",
   "metadata": {},
   "source": [
    "# Fitting and evaluating models\n",
    "\n",
    "## What the model is really being used for\n",
    "\n",
    "It is important to keep in mind here that the model is only being used to test how important keeping all the questions in the quiz is. Ideally, I would like to reduce the number of questions, and believe that I can without much issue, but using a model to check this assumption is useful. So, in this case, we are not concerned with minimizing anything, we are mostly exploring how the performance of the model changes with different sets of questions and determining which questions are essential to keep in. \n",
    "\n",
    "The Random Forest model is a perfect pick for this job as it can build a diverse set of learners that will try different combinations of questions on random bootstrap samples of the data, preventing the model from getting fixated on only one question or consistently building decision paths with questions asked in the same order. This will give us more insight into how important questions are really.\n",
    "\n",
    "## Parameters\n",
    "\n",
    "Most of the default parameters will work in this case. We definitely want to bootstrap and the default setting for the subsampling rate is sqrt(num_features), which in our case is ~6 of 35 questions, which seems reasonable. I don't want to limit the depth of the trees here so I can capture all interactions between questions, something you miss out on by limiting tree depth. We also don't need a large number of estimators (and computationally my computer is not capable of building a 500 tree forest on a million rows of data) since we aren't too concerned about maximizing the ability of the model to actually predict things.\n",
    "\n",
    "One important note is that I did set the class weight parameter to balanced as when I tested it without this parameter, the model NEVER predicted someone was an art major. While that may be semi reasonable from a real life standpoint (art majors are few and far between), I don't want to leave my users unable to ever see art as a possible choice.\n",
    "\n",
    "\n",
    "## Evaluation\n",
    "\n",
    "A number of metrics were produced to have a macro view of the performance of the model from one to the next. Log loss is probably the most appropriate measure for this problem since multi-class classification inherently will score extremely poorly in most accuracy related metrics. Log loss will give us an idea of whether the model is getting too confident about predicitions, when for this problem, it should inherently be fairly unsure about it's predictions.\n",
    "\n"
   ]
  },
  {
   "cell_type": "markdown",
   "metadata": {},
   "source": [
    "# Fitting forest with shard dataset and evaluating "
   ]
  },
  {
   "cell_type": "code",
   "execution_count": 16,
   "metadata": {
    "collapsed": true
   },
   "outputs": [],
   "source": [
    "forest_s = RandomForestClassifier(n_estimators=100, oob_score=True, n_jobs=-1, class_weight='balanced')"
   ]
  },
  {
   "cell_type": "code",
   "execution_count": 17,
   "metadata": {
    "collapsed": false
   },
   "outputs": [
    {
     "data": {
      "text/plain": [
       "RandomForestClassifier(bootstrap=True, class_weight='balanced',\n",
       "            criterion='gini', max_depth=None, max_features='auto',\n",
       "            max_leaf_nodes=None, min_impurity_split=1e-07,\n",
       "            min_samples_leaf=1, min_samples_split=2,\n",
       "            min_weight_fraction_leaf=0.0, n_estimators=100, n_jobs=-1,\n",
       "            oob_score=True, random_state=None, verbose=0, warm_start=False)"
      ]
     },
     "execution_count": 17,
     "metadata": {},
     "output_type": "execute_result"
    }
   ],
   "source": [
    "forest_s.fit(Xs_train, ys_train)"
   ]
  },
  {
   "cell_type": "code",
   "execution_count": 19,
   "metadata": {
    "collapsed": false
   },
   "outputs": [],
   "source": [
    "ys_pred = forest_s.predict(Xs_train)"
   ]
  },
  {
   "cell_type": "code",
   "execution_count": 21,
   "metadata": {
    "collapsed": false
   },
   "outputs": [
    {
     "name": "stdout",
     "output_type": "stream",
     "text": [
      "                                 precision    recall  f1-score   support\n",
      "\n",
      "     Business and Communication       0.39      0.33      0.36     32698\n",
      "                  Creative Arts       0.18      0.53      0.27     10441\n",
      "Math, Sciences, and Engineering       0.55      0.33      0.41     53179\n",
      "Public Service, Law, and Policy       0.35      0.33      0.34     29543\n",
      "                Social Sciences       0.32      0.43      0.37     24139\n",
      "\n",
      "                    avg / total       0.41      0.36      0.37    150000\n",
      "\n"
     ]
    }
   ],
   "source": [
    "print classification_report(ys_train, ys_pred)"
   ]
  },
  {
   "cell_type": "code",
   "execution_count": 22,
   "metadata": {
    "collapsed": true
   },
   "outputs": [],
   "source": [
    "ys_test_pred = forest_s.predict(Xs_test)"
   ]
  },
  {
   "cell_type": "code",
   "execution_count": 23,
   "metadata": {
    "collapsed": false
   },
   "outputs": [
    {
     "name": "stdout",
     "output_type": "stream",
     "text": [
      "                                 precision    recall  f1-score   support\n",
      "\n",
      "     Business and Communication       0.25      0.22      0.24     10910\n",
      "                  Creative Arts       0.10      0.27      0.14      3596\n",
      "Math, Sciences, and Engineering       0.42      0.25      0.31     17757\n",
      "Public Service, Law, and Policy       0.22      0.21      0.21      9807\n",
      "                Social Sciences       0.21      0.28      0.24      7930\n",
      "\n",
      "                    avg / total       0.29      0.24      0.25     50000\n",
      "\n"
     ]
    }
   ],
   "source": [
    "print classification_report(ys_test, ys_test_pred)"
   ]
  },
  {
   "cell_type": "code",
   "execution_count": 28,
   "metadata": {
    "collapsed": true
   },
   "outputs": [],
   "source": [
    "pred_probas_train = forest_s.predict_proba(Xs_train)"
   ]
  },
  {
   "cell_type": "code",
   "execution_count": 29,
   "metadata": {
    "collapsed": false
   },
   "outputs": [],
   "source": [
    "pred_probas_test = forest_s.predict_proba(Xs_test)"
   ]
  },
  {
   "cell_type": "code",
   "execution_count": 30,
   "metadata": {
    "collapsed": false
   },
   "outputs": [
    {
     "data": {
      "text/plain": [
       "1.3811316379745511"
      ]
     },
     "execution_count": 30,
     "metadata": {},
     "output_type": "execute_result"
    }
   ],
   "source": [
    "log_loss(ys_train, pred_probas_train)"
   ]
  },
  {
   "cell_type": "code",
   "execution_count": 31,
   "metadata": {
    "collapsed": false
   },
   "outputs": [
    {
     "data": {
      "text/plain": [
       "3.4103437293214567"
      ]
     },
     "execution_count": 31,
     "metadata": {},
     "output_type": "execute_result"
    }
   ],
   "source": [
    "log_loss(ys_test, pred_probas_test)"
   ]
  },
  {
   "cell_type": "code",
   "execution_count": 32,
   "metadata": {
    "collapsed": false
   },
   "outputs": [],
   "source": [
    "questions = rl.get_raw_data()\n",
    "fields_dict = cl.get_fields_dict()\n",
    "clean_q = cl.majors_string_to_list(questions)\n",
    "mapped_lst = cl.create_labels(clean_q, fields_dict)"
   ]
  },
  {
   "cell_type": "markdown",
   "metadata": {},
   "source": [
    "# Question Importance Sample Set\n",
    "\n",
    "Taking a first look at questions that are important to classifying users. These will probably not stay consistent with when the model is fitted on the whole data set, but if any turn up as important here AND also when we fit on the entire data set, then that could give us more confidence what actually matters."
   ]
  },
  {
   "cell_type": "code",
   "execution_count": 35,
   "metadata": {
    "collapsed": false
   },
   "outputs": [
    {
     "name": "stdout",
     "output_type": "stream",
     "text": [
      "Question num 11 importance: 0.0225262740912\n",
      "I'm interested in science and in the ability to think logically.\n",
      "\n",
      "Counter({'Math, Sciences, and Engineering': 8, 'Public Service, Law, and Policy': 2})\n",
      "\n",
      "Question num 8 importance: 0.0226924691257\n",
      "I like working with people, and I enjoy variety in my work.\n",
      "\n",
      "Counter({'Social Sciences': 4, 'Business and Communication': 3, 'Public Service, Law, and Policy': 1})\n",
      "\n",
      "Question num 9 importance: 0.0228725542508\n",
      "I'm interested in intellectual ideas, including those that are shaped by religious beliefs.\n",
      "\n",
      "Counter({'Social Sciences': 4, 'Public Service, Law, and Policy': 1})\n",
      "\n",
      "Question num 2 importance: 0.0230668614605\n",
      "I enjoy working with people, and I have strong verbal and written communication skills.\n",
      "\n",
      "Counter({'Business and Communication': 7, 'Math, Sciences, and Engineering': 1})\n",
      "\n",
      "Question num 15 importance: 0.0237914821955\n",
      "I like science and math, and I have mechanical aptitude.\n",
      "\n",
      "Counter({'Math, Sciences, and Engineering': 8, 'Public Service, Law, and Policy': 1})\n",
      "\n",
      "Question num 16 importance: 0.024354814065\n",
      "I can work on projects very carefully and thoroughly, with patience and determination.\n",
      "\n",
      "Counter({'Math, Sciences, and Engineering': 8, 'Public Service, Law, and Policy': 1, 'Business and Communication': 1})\n",
      "\n",
      "Question num 13 importance: 0.024426004386\n",
      "I like to experiment with better and faster ways of doing things.\n",
      "\n",
      "Counter({'Math, Sciences, and Engineering': 7, 'Public Service, Law, and Policy': 1})\n",
      "\n",
      "Question num 14 importance: 0.0251363505628\n",
      "I have a great memory and have the ability to recognize general principles in particular situations.\n",
      "\n",
      "Counter({'Math, Sciences, and Engineering': 7, 'Public Service, Law, and Policy': 1})\n",
      "\n",
      "Question num 20 importance: 0.0259383481865\n",
      "I have strong morals and enjoy helping people.\n",
      "\n",
      "Counter({'Public Service, Law, and Policy': 4, 'Business and Communication': 1})\n",
      "\n",
      "Question num 1 importance: 0.0263766814271\n",
      "I have multiple interests and a natural curiosity about the world.\n",
      "\n",
      "Counter({'Business and Communication': 4, 'Public Service, Law, and Policy': 2, 'Social Sciences': 2})\n",
      "\n",
      "Question num 12 importance: 0.0270235118792\n",
      "I enjoy learning about living things.\n",
      "\n",
      "Counter({'Math, Sciences, and Engineering': 7, 'Public Service, Law, and Policy': 2, 'Business and Communication': 1})\n",
      "\n",
      "Question num 17 importance: 0.0284663505095\n",
      "I'm interested in law, debate, government, and politics.\n",
      "\n",
      "Counter({'Public Service, Law, and Policy': 3, 'Social Sciences': 1})\n",
      "\n",
      "Question num 6 importance: 0.0285374637472\n",
      "I like to sing and/or play musical instruments.\n",
      "\n",
      "Counter({'Creative Arts': 1})\n",
      "\n",
      "Question num 19 importance: 0.0286472379232\n",
      "I'm interested in law and human nature, and I have the ability to correlate and reason.\n",
      "\n",
      "Counter({'Public Service, Law, and Policy': 3})\n",
      "\n",
      "Question num 35 importance: 0.028965074351\n",
      "Music is part of my everyday routine. People catch me dancing around a lot.\n",
      "\n",
      "Counter({'Creative Arts': 1})\n",
      "\n",
      "Question num 5 importance: 0.0289834093096\n",
      "I love acting. I was born to be on stage, or at least work behind the curtain.\n",
      "\n",
      "Counter({'Creative Arts': 1})\n",
      "\n",
      "Question num 7 importance: 0.0290911587962\n",
      "I'm interested in filmmaking and media production.\n",
      "\n",
      "Counter({'Creative Arts': 1})\n",
      "\n",
      "Question num 32 importance: 0.0293382835818\n",
      "I need the freedom to create and be creative.\n",
      "\n",
      "Counter({'Creative Arts': 1})\n",
      "\n",
      "Question num 18 importance: 0.0293912974624\n",
      "I'm very independent and inquiring, and I love working with people.\n",
      "\n",
      "Counter({'Business and Communication': 3, 'Social Sciences': 2, 'Public Service, Law, and Policy': 1, 'Math, Sciences, and Engineering': 1})\n",
      "\n",
      "Question num 30 importance: 0.0294490602947\n",
      "I enjoy learning about different parts of the world.\n",
      "\n",
      "Counter({'Social Sciences': 2, 'Business and Communication': 1})\n",
      "\n",
      "Question num 26 importance: 0.0297327535287\n",
      "I'm interested in working with sick people, and I have a strong sense of responsibility and sound judgment.\n",
      "\n",
      "Counter({'Public Service, Law, and Policy': 2})\n",
      "\n",
      "Question num 24 importance: 0.0297867025701\n",
      "I have an analytic and systematic mind. I'm also good at organizing and delegating responsibilities.\n",
      "\n",
      "Counter({'Business and Communication': 2})\n",
      "\n",
      "Question num 28 importance: 0.0299801074313\n",
      "I'm very ambitious, highly organized, and love coming up with my own ideas.\n",
      "\n",
      "Counter({'Business and Communication': 2})\n",
      "\n",
      "Question num 4 importance: 0.0300354281252\n",
      "I'm interested in graphic and/or Web design.\n",
      "\n",
      "Counter({'Creative Arts': 1, 'Math, Sciences, and Engineering': 1})\n",
      "\n",
      "Question num 34 importance: 0.0302670689958\n",
      "I am interested in physical therapy.\n",
      "\n",
      "Counter({'Math, Sciences, and Engineering': 1})\n",
      "\n",
      "Question num 27 importance: 0.0302893027509\n",
      "I'm interested in science, enjoy helping people, and have very strong morals.\n",
      "\n",
      "Counter({'Public Service, Law, and Policy': 2, 'Math, Sciences, and Engineering': 2})\n",
      "\n",
      "Question num 29 importance: 0.0303797716363\n",
      "I'm interested in sustainability initiatives and the environment.\n",
      "\n",
      "Counter({'Public Service, Law, and Policy': 1, 'Math, Sciences, and Engineering': 1})\n",
      "\n",
      "Question num 23 importance: 0.0304117056391\n",
      "I'm interested in the way people make their living and how that affects society.\n",
      "\n",
      "Counter({'Business and Communication': 1})\n",
      "\n",
      "Question num 33 importance: 0.0305411836972\n",
      "I love sports.\n",
      "\n",
      "Counter({'Business and Communication': 1})\n",
      "\n",
      "Question num 25 importance: 0.0306974746831\n",
      "I'm patient and active, and I love working with children.\n",
      "\n",
      "Counter({'Business and Communication': 1})\n",
      "\n",
      "Question num 31 importance: 0.0307751196971\n",
      "I am interested in sustaining the environment.\n",
      "\n",
      "Counter({'Public Service, Law, and Policy': 1})\n",
      "\n",
      "Question num 22 importance: 0.0308242901688\n",
      "I'm good at analyzing, comparing, and interpreting data.\n",
      "\n",
      "Counter({'Business and Communication': 2, 'Math, Sciences, and Engineering': 1})\n",
      "\n",
      "Question num 21 importance: 0.0308330678417\n",
      "I'm good with numbers and have a creative imagination.\n",
      "\n",
      "Counter({'Business and Communication': 1})\n",
      "\n",
      "Question num 10 importance: 0.0376303553239\n",
      "I have strong verbal ability and enjoy learning about other cultures and civilizations through language and literature.\n",
      "\n",
      "Counter({'Social Sciences': 9, 'Business and Communication': 1})\n",
      "\n",
      "Question num 3 importance: 0.0387409803051\n",
      "I have interest and/or ability in art.\n",
      "\n",
      "Counter({'Creative Arts': 4})\n",
      "\n"
     ]
    }
   ],
   "source": [
    "for i in np.argsort(forest_s.feature_importances_):\n",
    "    print \"Question num {} importance: {}\".format(i+1, forest_s.feature_importances_[i])\n",
    "    print mapped_lst[i][0] + '\\n'\n",
    "    print mapped_lst[i][2]\n",
    "    print"
   ]
  },
  {
   "cell_type": "markdown",
   "metadata": {},
   "source": [
    "# Fitting forest with entire dataset and evaluating"
   ]
  },
  {
   "cell_type": "code",
   "execution_count": 36,
   "metadata": {
    "collapsed": true
   },
   "outputs": [],
   "source": [
    "forest_f = RandomForestClassifier(n_estimators=100, oob_score=True, n_jobs=-1, class_weight='balanced')"
   ]
  },
  {
   "cell_type": "code",
   "execution_count": 37,
   "metadata": {
    "collapsed": false
   },
   "outputs": [
    {
     "data": {
      "text/plain": [
       "RandomForestClassifier(bootstrap=True, class_weight='balanced',\n",
       "            criterion='gini', max_depth=None, max_features='auto',\n",
       "            max_leaf_nodes=None, min_impurity_split=1e-07,\n",
       "            min_samples_leaf=1, min_samples_split=2,\n",
       "            min_weight_fraction_leaf=0.0, n_estimators=100, n_jobs=-1,\n",
       "            oob_score=True, random_state=None, verbose=0, warm_start=False)"
      ]
     },
     "execution_count": 37,
     "metadata": {},
     "output_type": "execute_result"
    }
   ],
   "source": [
    "forest_f.fit(Xf_train, yf_train)"
   ]
  },
  {
   "cell_type": "code",
   "execution_count": 38,
   "metadata": {
    "collapsed": true
   },
   "outputs": [],
   "source": [
    "yf_train_proba = forest_f.predict_proba(Xf_train)"
   ]
  },
  {
   "cell_type": "code",
   "execution_count": 39,
   "metadata": {
    "collapsed": false
   },
   "outputs": [
    {
     "data": {
      "text/plain": [
       "1.519259258080784"
      ]
     },
     "execution_count": 39,
     "metadata": {},
     "output_type": "execute_result"
    }
   ],
   "source": [
    "log_loss(yf_train, yf_train_proba)"
   ]
  },
  {
   "cell_type": "code",
   "execution_count": 40,
   "metadata": {
    "collapsed": true
   },
   "outputs": [],
   "source": [
    "yf_test_proba = forest_f.predict_proba(Xf_test)"
   ]
  },
  {
   "cell_type": "code",
   "execution_count": 41,
   "metadata": {
    "collapsed": false
   },
   "outputs": [
    {
     "data": {
      "text/plain": [
       "1.615844592999224"
      ]
     },
     "execution_count": 41,
     "metadata": {},
     "output_type": "execute_result"
    }
   ],
   "source": [
    "log_loss(yf_test, yf_test_proba)"
   ]
  },
  {
   "cell_type": "code",
   "execution_count": 42,
   "metadata": {
    "collapsed": true
   },
   "outputs": [],
   "source": [
    "yf_train_pred = forest_f.predict(Xf_train)"
   ]
  },
  {
   "cell_type": "code",
   "execution_count": 43,
   "metadata": {
    "collapsed": true
   },
   "outputs": [],
   "source": [
    "yf_test_pred = forest_f.predict(Xf_test)"
   ]
  },
  {
   "cell_type": "code",
   "execution_count": 44,
   "metadata": {
    "collapsed": false
   },
   "outputs": [
    {
     "name": "stdout",
     "output_type": "stream",
     "text": [
      "                                 precision    recall  f1-score   support\n",
      "\n",
      "     Business and Communication       0.32      0.25      0.28    162846\n",
      "                  Creative Arts       0.13      0.46      0.20     51923\n",
      "Math, Sciences, and Engineering       0.49      0.27      0.35    266436\n",
      "Public Service, Law, and Policy       0.29      0.22      0.25    147534\n",
      "                Social Sciences       0.26      0.40      0.32    121261\n",
      "\n",
      "                    avg / total       0.35      0.29      0.30    750000\n",
      "\n"
     ]
    }
   ],
   "source": [
    "print classification_report(yf_train, yf_train_pred)"
   ]
  },
  {
   "cell_type": "code",
   "execution_count": 45,
   "metadata": {
    "collapsed": false
   },
   "outputs": [
    {
     "name": "stdout",
     "output_type": "stream",
     "text": [
      "                                 precision    recall  f1-score   support\n",
      "\n",
      "     Business and Communication       0.28      0.21      0.24     54513\n",
      "                  Creative Arts       0.10      0.35      0.16     17552\n",
      "Math, Sciences, and Engineering       0.44      0.25      0.32     88683\n",
      "Public Service, Law, and Policy       0.24      0.18      0.21     49158\n",
      "                Social Sciences       0.23      0.35      0.28     40094\n",
      "\n",
      "                    avg / total       0.31      0.25      0.26    250000\n",
      "\n"
     ]
    }
   ],
   "source": [
    "print classification_report(yf_test, yf_test_pred)"
   ]
  },
  {
   "cell_type": "code",
   "execution_count": 93,
   "metadata": {
    "collapsed": false
   },
   "outputs": [
    {
     "name": "stdout",
     "output_type": "stream",
     "text": [
      "Rank: 35\n",
      "Question num 14 importance: 0.0233332883809\n",
      "I have a great memory and have the ability to recognize general principles in particular situations.\n",
      "\n",
      "Rank: 34\n",
      "Question num 13 importance: 0.0234159805546\n",
      "I like to experiment with better and faster ways of doing things.\n",
      "\n",
      "Rank: 33\n",
      "Question num 20 importance: 0.023853648839\n",
      "I have strong morals and enjoy helping people.\n",
      "\n",
      "Rank: 32\n",
      "Question num 16 importance: 0.023951972593\n",
      "I can work on projects very carefully and thoroughly, with patience and determination.\n",
      "\n",
      "Rank: 31\n",
      "Question num 19 importance: 0.0241704714261\n",
      "I'm interested in law and human nature, and I have the ability to correlate and reason.\n",
      "\n",
      "Rank: 30\n",
      "Question num 6 importance: 0.0241743726346\n",
      "I like to sing and/or play musical instruments.\n",
      "\n",
      "Rank: 29\n",
      "Question num 1 importance: 0.0241973331153\n",
      "I have multiple interests and a natural curiosity about the world.\n",
      "\n",
      "Rank: 28\n",
      "Question num 29 importance: 0.0242199145374\n",
      "I'm interested in sustainability initiatives and the environment.\n",
      "\n",
      "Rank: 27\n",
      "Question num 22 importance: 0.0242910290164\n",
      "I'm good at analyzing, comparing, and interpreting data.\n",
      "\n",
      "Rank: 26\n",
      "Question num 23 importance: 0.0243308891923\n",
      "I'm interested in the way people make their living and how that affects society.\n",
      "\n",
      "Rank: 25\n",
      "Question num 25 importance: 0.0243313837232\n",
      "I'm patient and active, and I love working with children.\n",
      "\n",
      "Rank: 24\n",
      "Question num 21 importance: 0.0244304318607\n",
      "I'm good with numbers and have a creative imagination.\n",
      "\n",
      "Rank: 23\n",
      "Question num 26 importance: 0.0244370107944\n",
      "I'm interested in working with sick people, and I have a strong sense of responsibility and sound judgment.\n",
      "\n",
      "Rank: 22\n",
      "Question num 34 importance: 0.024449329527\n",
      "I am interested in physical therapy.\n",
      "\n",
      "Rank: 21\n",
      "Question num 12 importance: 0.0244726886853\n",
      "I enjoy learning about living things.\n",
      "\n",
      "Rank: 20\n",
      "Question num 7 importance: 0.024473331216\n",
      "I'm interested in filmmaking and media production.\n",
      "\n",
      "Rank: 19\n",
      "Question num 32 importance: 0.0245070256289\n",
      "I need the freedom to create and be creative.\n",
      "\n",
      "Rank: 18\n",
      "Question num 15 importance: 0.024508283646\n",
      "I like science and math, and I have mechanical aptitude.\n",
      "\n",
      "Rank: 17\n",
      "Question num 11 importance: 0.024533811908\n",
      "I'm interested in science and in the ability to think logically.\n",
      "\n",
      "Rank: 16\n",
      "Question num 28 importance: 0.0245716477201\n",
      "I'm very ambitious, highly organized, and love coming up with my own ideas.\n",
      "\n",
      "Rank: 15\n",
      "Question num 35 importance: 0.0245732662223\n",
      "Music is part of my everyday routine. People catch me dancing around a lot.\n",
      "\n",
      "Rank: 14\n",
      "Question num 17 importance: 0.0245850642763\n",
      "I'm interested in law, debate, government, and politics.\n",
      "\n",
      "Rank: 13\n",
      "Question num 33 importance: 0.0246462187396\n",
      "I love sports.\n",
      "\n",
      "Rank: 12\n",
      "Question num 24 importance: 0.024732481972\n",
      "I have an analytic and systematic mind. I'm also good at organizing and delegating responsibilities.\n",
      "\n",
      "Rank: 11\n",
      "Question num 31 importance: 0.0247419441859\n",
      "I am interested in sustaining the environment.\n",
      "\n",
      "Rank: 10\n",
      "Question num 30 importance: 0.0247721646165\n",
      "I enjoy learning about different parts of the world.\n",
      "\n",
      "Rank: 9\n",
      "Question num 5 importance: 0.0247955065841\n",
      "I love acting. I was born to be on stage, or at least work behind the curtain.\n",
      "\n",
      "Rank: 8\n",
      "Question num 18 importance: 0.0248581852032\n",
      "I'm very independent and inquiring, and I love working with people.\n",
      "\n",
      "Rank: 7\n",
      "Question num 27 importance: 0.0249356883948\n",
      "I'm interested in science, enjoy helping people, and have very strong morals.\n",
      "\n",
      "Rank: 6\n",
      "Question num 4 importance: 0.0250537984897\n",
      "I'm interested in graphic and/or Web design.\n",
      "\n",
      "Rank: 5\n",
      "Question num 9 importance: 0.0251764485888\n",
      "I'm interested in intellectual ideas, including those that are shaped by religious beliefs.\n",
      "\n",
      "Rank: 4\n",
      "Question num 8 importance: 0.0260591387036\n",
      "I like working with people, and I enjoy variety in my work.\n",
      "\n",
      "Rank: 3\n",
      "Question num 2 importance: 0.0342008472837\n",
      "I enjoy working with people, and I have strong verbal and written communication skills.\n",
      "\n",
      "Rank: 2\n",
      "Question num 10 importance: 0.0871563681176\n",
      "I have strong verbal ability and enjoy learning about other cultures and civilizations through language and literature.\n",
      "\n",
      "Rank: 1\n",
      "Question num 3 importance: 0.0950590336224\n",
      "I have interest and/or ability in art.\n",
      "\n"
     ]
    }
   ],
   "source": [
    "rank = 35\n",
    "q_ranks = {}\n",
    "for i in np.argsort(forest_f.feature_importances_):\n",
    "    print \"Rank: {}\".format(rank)\n",
    "    print \"Question num {} importance: {}\".format(i+1, forest_f.feature_importances_[i])\n",
    "    print mapped_lst[i][0] + '\\n'\n",
    "    q_ranks[i+1] = rank\n",
    "    rank -= 1"
   ]
  },
  {
   "cell_type": "markdown",
   "metadata": {},
   "source": [
    "# Fully Fitted Model Recap\n",
    "\n",
    "## Question Importance\n",
    "\n",
    "Very interesting results when it comes to the question importances as the top two questions for both the shard and the full set remained the same. In fact, when the model was fitted on the entire data set, those two questions distanced themselves significantly from the rest of the questions. I did run both models multiple times and those two questions consistently came back as most important.\n",
    "\n",
    "After the top two questions however, there isn't much division between the rest of the questions. This is unfortunate, since I can't support the questions I choose with data as well, but it does give me some flexibility in choosing questions I personally find better.\n",
    "\n",
    "## Evaluation\n",
    "\n",
    "As expected, the model is pretty horrible at predicting anything. The accuracy metrics are extremely low, but that is often expected when predicting multi-classes. In this project, especially, we would expect this since the original labeled data was already extremely variable since each set of answers a bot gave us was then randomly labeled according to a probability distribution. Log loss is interesting as it is fairly low (though \"fairly low\" doesn't really mean anything), which was a little unexpected considering I expected my model to be horrible at actually making predictions. However, considering what log loss measures (large penalty for being really sure about a wrong classification), this actually begins to make more sense. My model inherently is never that sure about it's predictions and this lack of commitment prevents it from making high probability but incorrect classficiations. Basically, it is kinda wrong all the time, but log loss only really blows up only when you're sure about something which my model never is. Interesting example of the power and limitations of log loss.  \n",
    "\n",
    "But what is most important here is that the performance of the model stays fairly consistent from the train to the test set, meaning it should perform about the same even on new (user) data. It will also give us something to compare the limited question data set model to."
   ]
  },
  {
   "cell_type": "markdown",
   "metadata": {},
   "source": [
    "# Limited Question Model Fitting\n",
    "\n",
    "## How did I pick these questions?\n",
    "\n",
    "Very carefully. Seriously, though, I took the top 4 questions (as ranked by feature importance) and after that the feature importances level off to relatively equal. At that point, I started picking questions that were a little less direct (direct ex: \"I like science\" vs. indirect: \"I can work on projects very carefully and thoroughly, with patience and determination.) for a little subtler touch to the survey. This is a common survey technique and while I can most definitely NOT make any comment on the validity (I'd have to spend possibly years validating good survey questions) of that, I do think it is a common sense thing to do in order to capture more subtle information about my user"
   ]
  },
  {
   "cell_type": "code",
   "execution_count": 103,
   "metadata": {
    "collapsed": false
   },
   "outputs": [],
   "source": [
    "q_set1 = copy.deepcopy(giant_df[['q2', 'q3', 'q4', 'q8', 'q10', 'q16', 'q17', 'q20', 'q27', 'q28', 'labels']])"
   ]
  },
  {
   "cell_type": "code",
   "execution_count": 64,
   "metadata": {
    "collapsed": false
   },
   "outputs": [],
   "source": [
    "X_q1 = q_set1.drop('labels', axis=1).values\n",
    "y_q1 = q_set1['labels'].values"
   ]
  },
  {
   "cell_type": "code",
   "execution_count": 65,
   "metadata": {
    "collapsed": true
   },
   "outputs": [],
   "source": [
    "X_train, X_test, y_train, y_test = train_test_split(X_q1, y_q1, test_size=0.25)"
   ]
  },
  {
   "cell_type": "code",
   "execution_count": 66,
   "metadata": {
    "collapsed": true
   },
   "outputs": [],
   "source": [
    "forest = RandomForestClassifier(n_estimators=100, oob_score=True, n_jobs=-1, class_weight='balanced')"
   ]
  },
  {
   "cell_type": "code",
   "execution_count": 67,
   "metadata": {
    "collapsed": false
   },
   "outputs": [
    {
     "data": {
      "text/plain": [
       "RandomForestClassifier(bootstrap=True, class_weight='balanced',\n",
       "            criterion='gini', max_depth=None, max_features='auto',\n",
       "            max_leaf_nodes=None, min_impurity_split=1e-07,\n",
       "            min_samples_leaf=1, min_samples_split=2,\n",
       "            min_weight_fraction_leaf=0.0, n_estimators=100, n_jobs=-1,\n",
       "            oob_score=True, random_state=None, verbose=0, warm_start=False)"
      ]
     },
     "execution_count": 67,
     "metadata": {},
     "output_type": "execute_result"
    }
   ],
   "source": [
    "forest.fit(X_train, y_train)"
   ]
  },
  {
   "cell_type": "code",
   "execution_count": 68,
   "metadata": {
    "collapsed": true
   },
   "outputs": [],
   "source": [
    "y_train_proba = forest.predict_proba(X_train)"
   ]
  },
  {
   "cell_type": "code",
   "execution_count": 69,
   "metadata": {
    "collapsed": true
   },
   "outputs": [],
   "source": [
    "y_test_proba = forest.predict_proba(X_test)"
   ]
  },
  {
   "cell_type": "code",
   "execution_count": 70,
   "metadata": {
    "collapsed": false,
    "scrolled": true
   },
   "outputs": [
    {
     "data": {
      "text/plain": [
       "1.5729066340310696"
      ]
     },
     "execution_count": 70,
     "metadata": {},
     "output_type": "execute_result"
    }
   ],
   "source": [
    "log_loss(y_train, y_train_proba)"
   ]
  },
  {
   "cell_type": "code",
   "execution_count": 71,
   "metadata": {
    "collapsed": false
   },
   "outputs": [
    {
     "data": {
      "text/plain": [
       "1.5779950364277777"
      ]
     },
     "execution_count": 71,
     "metadata": {},
     "output_type": "execute_result"
    }
   ],
   "source": [
    "log_loss(y_test, y_test_proba)"
   ]
  },
  {
   "cell_type": "code",
   "execution_count": 72,
   "metadata": {
    "collapsed": true
   },
   "outputs": [],
   "source": [
    "y_train_pred = forest.predict(X_train)"
   ]
  },
  {
   "cell_type": "code",
   "execution_count": 73,
   "metadata": {
    "collapsed": true
   },
   "outputs": [],
   "source": [
    "y_test_pred = forest.predict(X_test)"
   ]
  },
  {
   "cell_type": "code",
   "execution_count": 74,
   "metadata": {
    "collapsed": false
   },
   "outputs": [
    {
     "name": "stdout",
     "output_type": "stream",
     "text": [
      "                                 precision    recall  f1-score   support\n",
      "\n",
      "     Business and Communication       0.28      0.18      0.22    163005\n",
      "                  Creative Arts       0.11      0.47      0.17     51915\n",
      "Math, Sciences, and Engineering       0.45      0.14      0.21    266367\n",
      "Public Service, Law, and Policy       0.26      0.15      0.19    147768\n",
      "                Social Sciences       0.23      0.47      0.31    120945\n",
      "\n",
      "                    avg / total       0.31      0.23      0.22    750000\n",
      "\n"
     ]
    }
   ],
   "source": [
    "print classification_report(y_train, y_train_pred)"
   ]
  },
  {
   "cell_type": "code",
   "execution_count": 75,
   "metadata": {
    "collapsed": false
   },
   "outputs": [
    {
     "name": "stdout",
     "output_type": "stream",
     "text": [
      "                                 precision    recall  f1-score   support\n",
      "\n",
      "     Business and Communication       0.27      0.18      0.21     54354\n",
      "                  Creative Arts       0.10      0.45      0.17     17560\n",
      "Math, Sciences, and Engineering       0.44      0.14      0.21     88752\n",
      "Public Service, Law, and Policy       0.25      0.14      0.18     48924\n",
      "                Social Sciences       0.22      0.46      0.30     40410\n",
      "\n",
      "                    avg / total       0.31      0.22      0.22    250000\n",
      "\n"
     ]
    }
   ],
   "source": [
    "print classification_report(y_test, y_test_pred)"
   ]
  },
  {
   "cell_type": "code",
   "execution_count": null,
   "metadata": {
    "collapsed": false
   },
   "outputs": [],
   "source": []
  },
  {
   "cell_type": "code",
   "execution_count": 78,
   "metadata": {
    "collapsed": true
   },
   "outputs": [],
   "source": [
    "final_question_nums = [2, 3, 4, 8, 10, 16, 17, 20, 27, 28]"
   ]
  },
  {
   "cell_type": "code",
   "execution_count": 100,
   "metadata": {
    "collapsed": false
   },
   "outputs": [
    {
     "name": "stdout",
     "output_type": "stream",
     "text": [
      "Question: I enjoy working with people, and I have strong verbal and written communication skills.\n",
      "Question num: 2\n",
      "Question rank: 3\n",
      "Counter({'Business and Communication': 7, 'Math, Sciences, and Engineering': 1})\n",
      "\n",
      "Question: I have interest and/or ability in art.\n",
      "Question num: 3\n",
      "Question rank: 1\n",
      "Counter({'Creative Arts': 4})\n",
      "\n",
      "Question: I'm interested in graphic and/or Web design.\n",
      "Question num: 4\n",
      "Question rank: 6\n",
      "Counter({'Creative Arts': 1, 'Math, Sciences, and Engineering': 1})\n",
      "\n",
      "Question: I like working with people, and I enjoy variety in my work.\n",
      "Question num: 8\n",
      "Question rank: 4\n",
      "Counter({'Social Sciences': 4, 'Business and Communication': 3, 'Public Service, Law, and Policy': 1})\n",
      "\n",
      "Question: I have strong verbal ability and enjoy learning about other cultures and civilizations through language and literature.\n",
      "Question num: 10\n",
      "Question rank: 2\n",
      "Counter({'Social Sciences': 9, 'Business and Communication': 1})\n",
      "\n",
      "Question: I can work on projects very carefully and thoroughly, with patience and determination.\n",
      "Question num: 16\n",
      "Question rank: 32\n",
      "Counter({'Math, Sciences, and Engineering': 8, 'Public Service, Law, and Policy': 1, 'Business and Communication': 1})\n",
      "\n",
      "Question: I'm interested in law, debate, government, and politics.\n",
      "Question num: 17\n",
      "Question rank: 14\n",
      "Counter({'Public Service, Law, and Policy': 3, 'Social Sciences': 1})\n",
      "\n",
      "Question: I have strong morals and enjoy helping people.\n",
      "Question num: 20\n",
      "Question rank: 33\n",
      "Counter({'Public Service, Law, and Policy': 4, 'Business and Communication': 1})\n",
      "\n",
      "Question: I'm interested in science, enjoy helping people, and have very strong morals.\n",
      "Question num: 27\n",
      "Question rank: 7\n",
      "Counter({'Public Service, Law, and Policy': 2, 'Math, Sciences, and Engineering': 2})\n",
      "\n",
      "Question: I'm very ambitious, highly organized, and love coming up with my own ideas.\n",
      "Question num: 28\n",
      "Question rank: 16\n",
      "Counter({'Business and Communication': 2})\n",
      "\n"
     ]
    }
   ],
   "source": [
    "for q_num in final_question_nums:\n",
    "    print \"Question: {}\".format(mapped_lst[q_num-1][0])\n",
    "    print \"Question num: {}\".format(q_num)\n",
    "    print \"Question rank: {}\".format(q_ranks[q_num])\n",
    "    print mapped_lst[q_num-1][2]\n",
    "    print"
   ]
  },
  {
   "cell_type": "code",
   "execution_count": 98,
   "metadata": {
    "collapsed": true
   },
   "outputs": [],
   "source": [
    "considering_questions = [13, 19, 22, 24, 25]"
   ]
  },
  {
   "cell_type": "code",
   "execution_count": 99,
   "metadata": {
    "collapsed": false
   },
   "outputs": [
    {
     "name": "stdout",
     "output_type": "stream",
     "text": [
      "Question: I like to experiment with better and faster ways of doing things.\n",
      "Question num: 13\n",
      "Question rank: 34\n",
      "Counter({'Math, Sciences, and Engineering': 7, 'Public Service, Law, and Policy': 1})\n",
      "\n",
      "Question: I'm interested in law and human nature, and I have the ability to correlate and reason.\n",
      "Question num: 19\n",
      "Question rank: 31\n",
      "Counter({'Public Service, Law, and Policy': 3})\n",
      "\n",
      "Question: I'm good at analyzing, comparing, and interpreting data.\n",
      "Question num: 22\n",
      "Question rank: 27\n",
      "Counter({'Business and Communication': 2, 'Math, Sciences, and Engineering': 1})\n",
      "\n",
      "Question: I have an analytic and systematic mind. I'm also good at organizing and delegating responsibilities.\n",
      "Question num: 24\n",
      "Question rank: 12\n",
      "Counter({'Business and Communication': 2})\n",
      "\n",
      "Question: I'm patient and active, and I love working with children.\n",
      "Question num: 25\n",
      "Question rank: 25\n",
      "Counter({'Business and Communication': 1})\n",
      "\n"
     ]
    }
   ],
   "source": [
    "for q_num in considering_questions:\n",
    "    print \"Question: {}\".format(mapped_lst[q_num-1][0])\n",
    "    print \"Question num: {}\".format(q_num)\n",
    "    print \"Question rank: {}\".format(q_ranks[q_num])\n",
    "    print mapped_lst[q_num-1][2]\n",
    "    print"
   ]
  },
  {
   "cell_type": "code",
   "execution_count": 104,
   "metadata": {
    "collapsed": false
   },
   "outputs": [],
   "source": [
    "q_set2 = copy.deepcopy(giant_df[['q2', 'q3', 'q4', 'q8', 'q10', 'q16', 'q17', 'q20', 'q24', 'q27', 'labels']])"
   ]
  },
  {
   "cell_type": "code",
   "execution_count": 105,
   "metadata": {
    "collapsed": false
   },
   "outputs": [],
   "source": [
    "X_q2 = q_set2.drop('labels', axis=1).values\n",
    "y_q2 = q_set2['labels'].values"
   ]
  },
  {
   "cell_type": "code",
   "execution_count": 106,
   "metadata": {
    "collapsed": true
   },
   "outputs": [],
   "source": [
    "X2_train, X2_test, y2_train, y2_test = train_test_split(X_q2, y_q2, test_size=0.25)"
   ]
  },
  {
   "cell_type": "code",
   "execution_count": 123,
   "metadata": {
    "collapsed": true
   },
   "outputs": [],
   "source": [
    "forest2 = RandomForestClassifier(n_estimators=100, n_jobs=-1, class_weight='balanced')"
   ]
  },
  {
   "cell_type": "code",
   "execution_count": 124,
   "metadata": {
    "collapsed": false
   },
   "outputs": [
    {
     "data": {
      "text/plain": [
       "RandomForestClassifier(bootstrap=True, class_weight='balanced',\n",
       "            criterion='gini', max_depth=None, max_features='auto',\n",
       "            max_leaf_nodes=None, min_impurity_split=1e-07,\n",
       "            min_samples_leaf=1, min_samples_split=2,\n",
       "            min_weight_fraction_leaf=0.0, n_estimators=100, n_jobs=-1,\n",
       "            oob_score=False, random_state=None, verbose=0,\n",
       "            warm_start=False)"
      ]
     },
     "execution_count": 124,
     "metadata": {},
     "output_type": "execute_result"
    }
   ],
   "source": [
    "forest2.fit(X2_train, y2_train)"
   ]
  },
  {
   "cell_type": "code",
   "execution_count": 125,
   "metadata": {
    "collapsed": true
   },
   "outputs": [],
   "source": [
    "y2_train_proba = forest2.predict_proba(X2_train)"
   ]
  },
  {
   "cell_type": "code",
   "execution_count": 126,
   "metadata": {
    "collapsed": true
   },
   "outputs": [],
   "source": [
    "y2_test_proba = forest2.predict_proba(X2_test)"
   ]
  },
  {
   "cell_type": "code",
   "execution_count": 127,
   "metadata": {
    "collapsed": false,
    "scrolled": true
   },
   "outputs": [
    {
     "data": {
      "text/plain": [
       "1.5727944669078691"
      ]
     },
     "execution_count": 127,
     "metadata": {},
     "output_type": "execute_result"
    }
   ],
   "source": [
    "log_loss(y2_train, y2_train_proba)"
   ]
  },
  {
   "cell_type": "code",
   "execution_count": 128,
   "metadata": {
    "collapsed": false
   },
   "outputs": [
    {
     "data": {
      "text/plain": [
       "1.5775857533701321"
      ]
     },
     "execution_count": 128,
     "metadata": {},
     "output_type": "execute_result"
    }
   ],
   "source": [
    "log_loss(y2_test, y2_test_proba)"
   ]
  },
  {
   "cell_type": "code",
   "execution_count": 139,
   "metadata": {
    "collapsed": true
   },
   "outputs": [],
   "source": [
    "y2_train_pred = forest2.predict(X2_train)"
   ]
  },
  {
   "cell_type": "code",
   "execution_count": 140,
   "metadata": {
    "collapsed": true
   },
   "outputs": [],
   "source": [
    "y2_test_pred = forest2.predict(X2_test)"
   ]
  },
  {
   "cell_type": "code",
   "execution_count": 141,
   "metadata": {
    "collapsed": false
   },
   "outputs": [
    {
     "name": "stdout",
     "output_type": "stream",
     "text": [
      "                                 precision    recall  f1-score   support\n",
      "\n",
      "     Business and Communication       0.28      0.19      0.23    163043\n",
      "                  Creative Arts       0.11      0.47      0.17     52134\n",
      "Math, Sciences, and Engineering       0.44      0.14      0.21    266374\n",
      "Public Service, Law, and Policy       0.26      0.14      0.19    147233\n",
      "                Social Sciences       0.23      0.46      0.30    121216\n",
      "\n",
      "                    avg / total       0.31      0.23      0.22    750000\n",
      "\n"
     ]
    }
   ],
   "source": [
    "print classification_report(y2_train, y2_train_pred)"
   ]
  },
  {
   "cell_type": "code",
   "execution_count": 142,
   "metadata": {
    "collapsed": false,
    "scrolled": true
   },
   "outputs": [
    {
     "name": "stdout",
     "output_type": "stream",
     "text": [
      "                                 precision    recall  f1-score   support\n",
      "\n",
      "     Business and Communication       0.27      0.18      0.22     54316\n",
      "                  Creative Arts       0.10      0.46      0.17     17341\n",
      "Math, Sciences, and Engineering       0.44      0.14      0.21     88745\n",
      "Public Service, Law, and Policy       0.25      0.14      0.18     49459\n",
      "                Social Sciences       0.22      0.45      0.30     40139\n",
      "\n",
      "                    avg / total       0.31      0.22      0.22    250000\n",
      "\n"
     ]
    }
   ],
   "source": [
    "print classification_report(y2_test, y2_test_pred)"
   ]
  },
  {
   "cell_type": "code",
   "execution_count": 119,
   "metadata": {
    "collapsed": true
   },
   "outputs": [],
   "source": [
    "final_question_nums = [2, 3, 4, 8, 10, 16, 17, 20, 24, 27]"
   ]
  },
  {
   "cell_type": "code",
   "execution_count": 120,
   "metadata": {
    "collapsed": false
   },
   "outputs": [
    {
     "name": "stdout",
     "output_type": "stream",
     "text": [
      "Question: I enjoy working with people, and I have strong verbal and written communication skills.\n",
      "Question num: 2\n",
      "Question rank: 3\n",
      "Counter({'Business and Communication': 7, 'Math, Sciences, and Engineering': 1})\n",
      "\n",
      "Question: I have interest and/or ability in art.\n",
      "Question num: 3\n",
      "Question rank: 1\n",
      "Counter({'Creative Arts': 4})\n",
      "\n",
      "Question: I'm interested in graphic and/or Web design.\n",
      "Question num: 4\n",
      "Question rank: 6\n",
      "Counter({'Creative Arts': 1, 'Math, Sciences, and Engineering': 1})\n",
      "\n",
      "Question: I like working with people, and I enjoy variety in my work.\n",
      "Question num: 8\n",
      "Question rank: 4\n",
      "Counter({'Social Sciences': 4, 'Business and Communication': 3, 'Public Service, Law, and Policy': 1})\n",
      "\n",
      "Question: I have strong verbal ability and enjoy learning about other cultures and civilizations through language and literature.\n",
      "Question num: 10\n",
      "Question rank: 2\n",
      "Counter({'Social Sciences': 9, 'Business and Communication': 1})\n",
      "\n",
      "Question: I can work on projects very carefully and thoroughly, with patience and determination.\n",
      "Question num: 16\n",
      "Question rank: 32\n",
      "Counter({'Math, Sciences, and Engineering': 8, 'Public Service, Law, and Policy': 1, 'Business and Communication': 1})\n",
      "\n",
      "Question: I'm interested in law, debate, government, and politics.\n",
      "Question num: 17\n",
      "Question rank: 14\n",
      "Counter({'Public Service, Law, and Policy': 3, 'Social Sciences': 1})\n",
      "\n",
      "Question: I have strong morals and enjoy helping people.\n",
      "Question num: 20\n",
      "Question rank: 33\n",
      "Counter({'Public Service, Law, and Policy': 4, 'Business and Communication': 1})\n",
      "\n",
      "Question: I have an analytic and systematic mind. I'm also good at organizing and delegating responsibilities.\n",
      "Question num: 24\n",
      "Question rank: 12\n",
      "Counter({'Business and Communication': 2})\n",
      "\n",
      "Question: I'm interested in science, enjoy helping people, and have very strong morals.\n",
      "Question num: 27\n",
      "Question rank: 7\n",
      "Counter({'Public Service, Law, and Policy': 2, 'Math, Sciences, and Engineering': 2})\n",
      "\n"
     ]
    }
   ],
   "source": [
    "for q_num in final_question_nums:\n",
    "    print \"Question: {}\".format(mapped_lst[q_num-1][0])\n",
    "    print \"Question num: {}\".format(q_num)\n",
    "    print \"Question rank: {}\".format(q_ranks[q_num])\n",
    "    print mapped_lst[q_num-1][2]\n",
    "    print"
   ]
  },
  {
   "cell_type": "code",
   "execution_count": 137,
   "metadata": {
    "collapsed": false
   },
   "outputs": [],
   "source": [
    "with open('./firstmodel.pkl', 'w') as f:\n",
    "    pickle.dump(forest2, f)"
   ]
  },
  {
   "cell_type": "code",
   "execution_count": 138,
   "metadata": {
    "collapsed": false
   },
   "outputs": [],
   "source": [
    "with open('./firstmodel.pkl') as f:\n",
    "    reload_forest = pickle.load(f)"
   ]
  },
  {
   "cell_type": "code",
   "execution_count": null,
   "metadata": {
    "collapsed": true
   },
   "outputs": [],
   "source": []
  },
  {
   "cell_type": "code",
   "execution_count": 143,
   "metadata": {
    "collapsed": true
   },
   "outputs": [],
   "source": [
    "yr_train_proba = reload_forest.predict_proba(X2_train)"
   ]
  },
  {
   "cell_type": "code",
   "execution_count": 144,
   "metadata": {
    "collapsed": true
   },
   "outputs": [],
   "source": [
    "yr_test_proba = reload_forest.predict_proba(X2_test)"
   ]
  },
  {
   "cell_type": "code",
   "execution_count": 145,
   "metadata": {
    "collapsed": false,
    "scrolled": true
   },
   "outputs": [
    {
     "data": {
      "text/plain": [
       "1.5727944669078691"
      ]
     },
     "execution_count": 145,
     "metadata": {},
     "output_type": "execute_result"
    }
   ],
   "source": [
    "log_loss(y2_train, yr_train_proba)"
   ]
  },
  {
   "cell_type": "code",
   "execution_count": 146,
   "metadata": {
    "collapsed": false
   },
   "outputs": [
    {
     "data": {
      "text/plain": [
       "1.5775857533701321"
      ]
     },
     "execution_count": 146,
     "metadata": {},
     "output_type": "execute_result"
    }
   ],
   "source": [
    "log_loss(y2_test, yr_test_proba)"
   ]
  },
  {
   "cell_type": "code",
   "execution_count": 147,
   "metadata": {
    "collapsed": true
   },
   "outputs": [],
   "source": [
    "yr_train_pred = reload_forest.predict(X2_train)"
   ]
  },
  {
   "cell_type": "code",
   "execution_count": 148,
   "metadata": {
    "collapsed": true
   },
   "outputs": [],
   "source": [
    "yr_test_pred = reload_forest.predict(X2_test)"
   ]
  },
  {
   "cell_type": "code",
   "execution_count": 149,
   "metadata": {
    "collapsed": false
   },
   "outputs": [
    {
     "name": "stdout",
     "output_type": "stream",
     "text": [
      "                                 precision    recall  f1-score   support\n",
      "\n",
      "     Business and Communication       0.28      0.19      0.23    163043\n",
      "                  Creative Arts       0.11      0.47      0.17     52134\n",
      "Math, Sciences, and Engineering       0.44      0.14      0.21    266374\n",
      "Public Service, Law, and Policy       0.26      0.14      0.19    147233\n",
      "                Social Sciences       0.23      0.46      0.30    121216\n",
      "\n",
      "                    avg / total       0.31      0.23      0.22    750000\n",
      "\n"
     ]
    }
   ],
   "source": [
    "print classification_report(y2_train, yr_train_pred)"
   ]
  },
  {
   "cell_type": "code",
   "execution_count": 150,
   "metadata": {
    "collapsed": false,
    "scrolled": true
   },
   "outputs": [
    {
     "name": "stdout",
     "output_type": "stream",
     "text": [
      "                                 precision    recall  f1-score   support\n",
      "\n",
      "     Business and Communication       0.27      0.18      0.22     54316\n",
      "                  Creative Arts       0.10      0.46      0.17     17341\n",
      "Math, Sciences, and Engineering       0.44      0.14      0.21     88745\n",
      "Public Service, Law, and Policy       0.25      0.14      0.18     49459\n",
      "                Social Sciences       0.22      0.45      0.30     40139\n",
      "\n",
      "                    avg / total       0.31      0.22      0.22    250000\n",
      "\n"
     ]
    }
   ],
   "source": [
    "print classification_report(y2_test, yr_test_pred)"
   ]
  },
  {
   "cell_type": "code",
   "execution_count": null,
   "metadata": {
    "collapsed": true
   },
   "outputs": [],
   "source": []
  }
 ],
 "metadata": {
  "anaconda-cloud": {},
  "kernelspec": {
   "display_name": "Python [Root]",
   "language": "python",
   "name": "Python [Root]"
  },
  "language_info": {
   "codemirror_mode": {
    "name": "ipython",
    "version": 2
   },
   "file_extension": ".py",
   "mimetype": "text/x-python",
   "name": "python",
   "nbconvert_exporter": "python",
   "pygments_lexer": "ipython2",
   "version": "2.7.12"
  }
 },
 "nbformat": 4,
 "nbformat_minor": 0
}
